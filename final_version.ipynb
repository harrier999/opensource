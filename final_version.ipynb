{
  "nbformat": 4,
  "nbformat_minor": 0,
  "metadata": {
    "colab": {
      "name": "Untitled1.ipynb",
      "provenance": [],
      "authorship_tag": "ABX9TyOiF6FfY6oPqKfnbbKFEMqn"
    },
    "kernelspec": {
      "name": "python3",
      "display_name": "Python 3"
    }
  },
  "cells": [
    {
      "cell_type": "code",
      "metadata": {
        "id": "k6kWV6q0ujWW",
        "colab_type": "code",
        "colab": {
          "base_uri": "https://localhost:8080/",
          "height": 307
        },
        "outputId": "53c1945f-5515-4d5d-f409-f0ae4fcb6070"
      },
      "source": [
        "from __future__ import absolute_import, division, print_function, unicode_literals\n",
        "import cv2\n",
        "!pip install -q tensorflow-gpu==2.0.0-rc1\n",
        "import tensorflow as tf\n",
        "import numpy as np\n",
        "from keras.models import Sequential\n",
        "from keras.layers import Dense, Activation, Flatten, Conv2D, MaxPooling2D, Dropout\n",
        "size = 24 #기본 = 28\n",
        "size3 = 24\n",
        "\n",
        "mnist = tf.keras.datasets.mnist\n",
        "\n",
        "(x_train, y_train), (x_test, y_test) = mnist.load_data()\n",
        "\n",
        "i=0\n",
        "x_train2 = np.zeros((60000,size,size))\n",
        "x_test2 = np.zeros((10000,size,size))\n",
        "while(i<60000):\n",
        "  x_train2[i] = (cv2.resize(x_train[i], dsize=(size, size), fx=0, fy=0, interpolation=cv2.INTER_CUBIC))\n",
        "  i = i+1\n",
        "i=0\n",
        "while(i<10000):\n",
        "  x_test2[i] = (cv2.resize(x_test[i], dsize=(size, size), fx=0, fy=0, interpolation=cv2.INTER_CUBIC))\n",
        "  i = i+1\n",
        "\n",
        "i=0\n",
        "x_train2 = np.zeros((60000,size,size))\n",
        "x_test2 = np.zeros((10000,size,size))\n",
        "while(i<60000):\n",
        "  x_train2[i] = (cv2.resize(x_train[i], dsize=(size, size), fx=0, fy=0, interpolation=cv2.INTER_CUBIC))\n",
        "  i = i+1\n",
        "i=0\n",
        "while(i<10000):\n",
        "  x_test2[i] = (cv2.resize(x_test[i], dsize=(size, size), fx=0, fy=0, interpolation=cv2.INTER_CUBIC))\n",
        "  i = i+1\n",
        "\n",
        "\n",
        "x_train2, x_test2 = x_train2 / 255.0, x_test2 / 255.0\n",
        "\n",
        "\n",
        "x_train2 = x_train2.reshape(x_train2.shape[0], size, size, 1)\n",
        "x_test2 = x_test2.reshape(x_test2.shape[0], size, size, 1)\n",
        "model = Sequential()\n",
        "model.add(Conv2D(32, kernel_size=(3, 3), input_shape=(size, size, 1), activation='relu'))\n",
        "model.add(Conv2D(64, (3, 3), activation='relu'))\n",
        "model.add(MaxPooling2D(pool_size=2))\n",
        "model.add(Dropout(0.25))\n",
        "model.add(Flatten())\n",
        "model.add(Dense(128, activation='relu'))\n",
        "model.add(Dropout(0.5))\n",
        "model.add(Dense(10, activation='softmax'))\n",
        "\n",
        "\n",
        "\n",
        "\n",
        "model.compile(optimizer='adam',\n",
        "              loss='sparse_categorical_crossentropy',\n",
        "              metrics=['accuracy'])\n",
        "\n",
        "\n",
        "model.fit(x_train2, y_train, epochs=5)\n",
        "\n",
        "model.evaluate(x_test2,  y_test, verbose=2)\n",
        "\n"
      ],
      "execution_count": 22,
      "outputs": [
        {
          "output_type": "stream",
          "text": [
            "Train on 60000 samples\n",
            "Epoch 1/5\n",
            "WARNING:tensorflow:Entity <function Function._initialize_uninitialized_variables.<locals>.initialize_variables at 0x7f7c73be56a8> could not be transformed and will be executed as-is. Please report this to the AutoGraph team. When filing the bug, set the verbosity to 10 (on Linux, `export AUTOGRAPH_VERBOSITY=10`) and attach the full output. Cause: module 'gast' has no attribute 'Num'\n",
            "WARNING: Entity <function Function._initialize_uninitialized_variables.<locals>.initialize_variables at 0x7f7c73be56a8> could not be transformed and will be executed as-is. Please report this to the AutoGraph team. When filing the bug, set the verbosity to 10 (on Linux, `export AUTOGRAPH_VERBOSITY=10`) and attach the full output. Cause: module 'gast' has no attribute 'Num'\n",
            "60000/60000 [==============================] - 5s 88us/sample - loss: 0.3294 - accuracy: 0.9054\n",
            "Epoch 2/5\n",
            "60000/60000 [==============================] - 5s 83us/sample - loss: 0.1576 - accuracy: 0.9534\n",
            "Epoch 3/5\n",
            "60000/60000 [==============================] - 5s 89us/sample - loss: 0.1179 - accuracy: 0.9641\n",
            "Epoch 4/5\n",
            "60000/60000 [==============================] - 5s 83us/sample - loss: 0.0963 - accuracy: 0.9702\n",
            "Epoch 5/5\n",
            "60000/60000 [==============================] - 5s 82us/sample - loss: 0.0815 - accuracy: 0.9753\n",
            "10000/1 - 1s - loss: 0.0382 - accuracy: 0.9771\n"
          ],
          "name": "stdout"
        },
        {
          "output_type": "execute_result",
          "data": {
            "text/plain": [
              "[0.0744081754884217, 0.9771]"
            ]
          },
          "metadata": {
            "tags": []
          },
          "execution_count": 22
        }
      ]
    },
    {
      "cell_type": "code",
      "metadata": {
        "id": "0GvQuUKjn650",
        "colab_type": "code",
        "colab": {}
      },
      "source": [
        ""
      ],
      "execution_count": 0,
      "outputs": []
    },
    {
      "cell_type": "code",
      "metadata": {
        "id": "jvlciaVZGvOS",
        "colab_type": "code",
        "colab": {
          "base_uri": "https://localhost:8080/",
          "height": 35
        },
        "outputId": "dcded26c-0533-4c7d-f70f-79e6527739a1"
      },
      "source": [
        "x_train2.shape"
      ],
      "execution_count": 103,
      "outputs": [
        {
          "output_type": "execute_result",
          "data": {
            "text/plain": [
              "(60000, 28, 28)"
            ]
          },
          "metadata": {
            "tags": []
          },
          "execution_count": 103
        }
      ]
    },
    {
      "cell_type": "code",
      "metadata": {
        "id": "ZjGx0q5bwLIR",
        "colab_type": "code",
        "colab": {
          "base_uri": "https://localhost:8080/",
          "height": 269
        },
        "outputId": "f4da16d0-efb2-4969-fbf8-77aafa3a5b6a"
      },
      "source": [
        "import matplotlib.pyplot as plt\n",
        "\n",
        "\n",
        "\n",
        "\n",
        "x_train2[10000].shape\n",
        "plt.figure()\n",
        "plt.imshow(x_train2[12]) #INTER_LANCZOS4, INTER_CUBIC 둘중 하나 선택 \n",
        "plt.colorbar()\n",
        "plt.grid(False)\n",
        "plt.show()"
      ],
      "execution_count": 13,
      "outputs": [
        {
          "output_type": "display_data",
          "data": {
            "image/png": "[encoded data removed]",
            "text/plain": [
              "<Figure size 432x288 with 2 Axes>"
            ]
          },
          "metadata": {
            "tags": [],
            "needs_background": "light"
          }
        }
      ]
    }
  ]
}